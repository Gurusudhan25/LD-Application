{
  "nbformat": 4,
  "nbformat_minor": 0,
  "metadata": {
    "colab": {
      "provenance": [],
      "authorship_tag": "ABX9TyPMoVodXgojQEcGRqeoNmDe",
      "include_colab_link": true
    },
    "kernelspec": {
      "name": "python3",
      "display_name": "Python 3"
    },
    "language_info": {
      "name": "python"
    }
  },
  "cells": [
    {
      "cell_type": "markdown",
      "metadata": {
        "id": "view-in-github",
        "colab_type": "text"
      },
      "source": [
        "<a href=\"https://colab.research.google.com/github/Gurusudhan25/LD-Application/blob/main/Project.ipynb\" target=\"_parent\"><img src=\"https://colab.research.google.com/assets/colab-badge.svg\" alt=\"Open In Colab\"/></a>"
      ]
    },
    {
      "cell_type": "code",
      "execution_count": null,
      "metadata": {
        "id": "0NCjjJXyfRFw"
      },
      "outputs": [],
      "source": [
        "from __future__ import print_function\n",
        "import pandas as pd\n",
        "import numpy as np\n",
        "import matplotlib.pyplot as plt\n",
        "import seaborn as sns\n",
        "from sklearn.metrics import classification_report\n",
        "from sklearn import metrics\n",
        "from sklearn import tree\n",
        "import warnings\n",
        "from sklearn.preprocessing import LabelEncoder\n",
        "warnings.filterwarnings('ignore')"
      ]
    },
    {
      "cell_type": "code",
      "source": [
        "url = \"https://raw.githubusercontent.com/monicarevuru/minor/master/sld.csv\"\n",
        "\n",
        "df=pd.read_csv(url)"
      ],
      "metadata": {
        "id": "1lJlXTPtlyRw"
      },
      "execution_count": null,
      "outputs": []
    },
    {
      "cell_type": "code",
      "source": [
        "df.head()"
      ],
      "metadata": {
        "id": "Kz1Bn7url6ty",
        "colab": {
          "base_uri": "https://localhost:8080/",
          "height": 297
        },
        "outputId": "95ff9937-f588-4add-83bb-42a9885a50ca"
      },
      "execution_count": null,
      "outputs": [
        {
          "output_type": "execute_result",
          "data": {
            "text/plain": [
              "    MRD_no  Age Gender Class Academic Reading Writing Spelling Copying  \\\n",
              "0  1897315   11    Boy     5     poor     yes      no      yes      no   \n",
              "1   964977    6   Girl     1     good     yes     yes      yes      no   \n",
              "2  1904740    8   Girl     3     good      no     yes       no      no   \n",
              "3  1198035  NaN    Boy   NaN     good      no     yes      yes      no   \n",
              "4  1752943  NaN    Boy   NaN     good     yes     yes      yes      no   \n",
              "\n",
              "  Language  ... Attention Hyperactive Impulsive processing speed  \\\n",
              "0       no  ...        no          no        no               no   \n",
              "1       no  ...        no          no        no               no   \n",
              "2       no  ...       yes         yes       yes               no   \n",
              "3       no  ...        no          no        no               no   \n",
              "4       no  ...       yes         yes        no               no   \n",
              "\n",
              "  Auditory Discrimination Auditory Memory Visual Memory Visual Discrimination  \\\n",
              "0                      no              no            no                    no   \n",
              "1                      no              no            no                    no   \n",
              "2                      no              no            no                   yes   \n",
              "3                      no              no            no                    no   \n",
              "4                      no              no            no                    no   \n",
              "\n",
              "  Visuo motor   LD  \n",
              "0          no  yes  \n",
              "1          no  yes  \n",
              "2          no   no  \n",
              "3          no  yes  \n",
              "4          no  yes  \n",
              "\n",
              "[5 rows x 23 columns]"
            ],
            "text/html": [
              "\n",
              "  <div id=\"df-b9368b6f-81dd-4a7c-8627-4622726b9402\">\n",
              "    <div class=\"colab-df-container\">\n",
              "      <div>\n",
              "<style scoped>\n",
              "    .dataframe tbody tr th:only-of-type {\n",
              "        vertical-align: middle;\n",
              "    }\n",
              "\n",
              "    .dataframe tbody tr th {\n",
              "        vertical-align: top;\n",
              "    }\n",
              "\n",
              "    .dataframe thead th {\n",
              "        text-align: right;\n",
              "    }\n",
              "</style>\n",
              "<table border=\"1\" class=\"dataframe\">\n",
              "  <thead>\n",
              "    <tr style=\"text-align: right;\">\n",
              "      <th></th>\n",
              "      <th>MRD_no</th>\n",
              "      <th>Age</th>\n",
              "      <th>Gender</th>\n",
              "      <th>Class</th>\n",
              "      <th>Academic</th>\n",
              "      <th>Reading</th>\n",
              "      <th>Writing</th>\n",
              "      <th>Spelling</th>\n",
              "      <th>Copying</th>\n",
              "      <th>Language</th>\n",
              "      <th>...</th>\n",
              "      <th>Attention</th>\n",
              "      <th>Hyperactive</th>\n",
              "      <th>Impulsive</th>\n",
              "      <th>processing speed</th>\n",
              "      <th>Auditory Discrimination</th>\n",
              "      <th>Auditory Memory</th>\n",
              "      <th>Visual Memory</th>\n",
              "      <th>Visual Discrimination</th>\n",
              "      <th>Visuo motor</th>\n",
              "      <th>LD</th>\n",
              "    </tr>\n",
              "  </thead>\n",
              "  <tbody>\n",
              "    <tr>\n",
              "      <th>0</th>\n",
              "      <td>1897315</td>\n",
              "      <td>11</td>\n",
              "      <td>Boy</td>\n",
              "      <td>5</td>\n",
              "      <td>poor</td>\n",
              "      <td>yes</td>\n",
              "      <td>no</td>\n",
              "      <td>yes</td>\n",
              "      <td>no</td>\n",
              "      <td>no</td>\n",
              "      <td>...</td>\n",
              "      <td>no</td>\n",
              "      <td>no</td>\n",
              "      <td>no</td>\n",
              "      <td>no</td>\n",
              "      <td>no</td>\n",
              "      <td>no</td>\n",
              "      <td>no</td>\n",
              "      <td>no</td>\n",
              "      <td>no</td>\n",
              "      <td>yes</td>\n",
              "    </tr>\n",
              "    <tr>\n",
              "      <th>1</th>\n",
              "      <td>964977</td>\n",
              "      <td>6</td>\n",
              "      <td>Girl</td>\n",
              "      <td>1</td>\n",
              "      <td>good</td>\n",
              "      <td>yes</td>\n",
              "      <td>yes</td>\n",
              "      <td>yes</td>\n",
              "      <td>no</td>\n",
              "      <td>no</td>\n",
              "      <td>...</td>\n",
              "      <td>no</td>\n",
              "      <td>no</td>\n",
              "      <td>no</td>\n",
              "      <td>no</td>\n",
              "      <td>no</td>\n",
              "      <td>no</td>\n",
              "      <td>no</td>\n",
              "      <td>no</td>\n",
              "      <td>no</td>\n",
              "      <td>yes</td>\n",
              "    </tr>\n",
              "    <tr>\n",
              "      <th>2</th>\n",
              "      <td>1904740</td>\n",
              "      <td>8</td>\n",
              "      <td>Girl</td>\n",
              "      <td>3</td>\n",
              "      <td>good</td>\n",
              "      <td>no</td>\n",
              "      <td>yes</td>\n",
              "      <td>no</td>\n",
              "      <td>no</td>\n",
              "      <td>no</td>\n",
              "      <td>...</td>\n",
              "      <td>yes</td>\n",
              "      <td>yes</td>\n",
              "      <td>yes</td>\n",
              "      <td>no</td>\n",
              "      <td>no</td>\n",
              "      <td>no</td>\n",
              "      <td>no</td>\n",
              "      <td>yes</td>\n",
              "      <td>no</td>\n",
              "      <td>no</td>\n",
              "    </tr>\n",
              "    <tr>\n",
              "      <th>3</th>\n",
              "      <td>1198035</td>\n",
              "      <td>NaN</td>\n",
              "      <td>Boy</td>\n",
              "      <td>NaN</td>\n",
              "      <td>good</td>\n",
              "      <td>no</td>\n",
              "      <td>yes</td>\n",
              "      <td>yes</td>\n",
              "      <td>no</td>\n",
              "      <td>no</td>\n",
              "      <td>...</td>\n",
              "      <td>no</td>\n",
              "      <td>no</td>\n",
              "      <td>no</td>\n",
              "      <td>no</td>\n",
              "      <td>no</td>\n",
              "      <td>no</td>\n",
              "      <td>no</td>\n",
              "      <td>no</td>\n",
              "      <td>no</td>\n",
              "      <td>yes</td>\n",
              "    </tr>\n",
              "    <tr>\n",
              "      <th>4</th>\n",
              "      <td>1752943</td>\n",
              "      <td>NaN</td>\n",
              "      <td>Boy</td>\n",
              "      <td>NaN</td>\n",
              "      <td>good</td>\n",
              "      <td>yes</td>\n",
              "      <td>yes</td>\n",
              "      <td>yes</td>\n",
              "      <td>no</td>\n",
              "      <td>no</td>\n",
              "      <td>...</td>\n",
              "      <td>yes</td>\n",
              "      <td>yes</td>\n",
              "      <td>no</td>\n",
              "      <td>no</td>\n",
              "      <td>no</td>\n",
              "      <td>no</td>\n",
              "      <td>no</td>\n",
              "      <td>no</td>\n",
              "      <td>no</td>\n",
              "      <td>yes</td>\n",
              "    </tr>\n",
              "  </tbody>\n",
              "</table>\n",
              "<p>5 rows × 23 columns</p>\n",
              "</div>\n",
              "      <button class=\"colab-df-convert\" onclick=\"convertToInteractive('df-b9368b6f-81dd-4a7c-8627-4622726b9402')\"\n",
              "              title=\"Convert this dataframe to an interactive table.\"\n",
              "              style=\"display:none;\">\n",
              "        \n",
              "  <svg xmlns=\"http://www.w3.org/2000/svg\" height=\"24px\"viewBox=\"0 0 24 24\"\n",
              "       width=\"24px\">\n",
              "    <path d=\"M0 0h24v24H0V0z\" fill=\"none\"/>\n",
              "    <path d=\"M18.56 5.44l.94 2.06.94-2.06 2.06-.94-2.06-.94-.94-2.06-.94 2.06-2.06.94zm-11 1L8.5 8.5l.94-2.06 2.06-.94-2.06-.94L8.5 2.5l-.94 2.06-2.06.94zm10 10l.94 2.06.94-2.06 2.06-.94-2.06-.94-.94-2.06-.94 2.06-2.06.94z\"/><path d=\"M17.41 7.96l-1.37-1.37c-.4-.4-.92-.59-1.43-.59-.52 0-1.04.2-1.43.59L10.3 9.45l-7.72 7.72c-.78.78-.78 2.05 0 2.83L4 21.41c.39.39.9.59 1.41.59.51 0 1.02-.2 1.41-.59l7.78-7.78 2.81-2.81c.8-.78.8-2.07 0-2.86zM5.41 20L4 18.59l7.72-7.72 1.47 1.35L5.41 20z\"/>\n",
              "  </svg>\n",
              "      </button>\n",
              "      \n",
              "  <style>\n",
              "    .colab-df-container {\n",
              "      display:flex;\n",
              "      flex-wrap:wrap;\n",
              "      gap: 12px;\n",
              "    }\n",
              "\n",
              "    .colab-df-convert {\n",
              "      background-color: #E8F0FE;\n",
              "      border: none;\n",
              "      border-radius: 50%;\n",
              "      cursor: pointer;\n",
              "      display: none;\n",
              "      fill: #1967D2;\n",
              "      height: 32px;\n",
              "      padding: 0 0 0 0;\n",
              "      width: 32px;\n",
              "    }\n",
              "\n",
              "    .colab-df-convert:hover {\n",
              "      background-color: #E2EBFA;\n",
              "      box-shadow: 0px 1px 2px rgba(60, 64, 67, 0.3), 0px 1px 3px 1px rgba(60, 64, 67, 0.15);\n",
              "      fill: #174EA6;\n",
              "    }\n",
              "\n",
              "    [theme=dark] .colab-df-convert {\n",
              "      background-color: #3B4455;\n",
              "      fill: #D2E3FC;\n",
              "    }\n",
              "\n",
              "    [theme=dark] .colab-df-convert:hover {\n",
              "      background-color: #434B5C;\n",
              "      box-shadow: 0px 1px 3px 1px rgba(0, 0, 0, 0.15);\n",
              "      filter: drop-shadow(0px 1px 2px rgba(0, 0, 0, 0.3));\n",
              "      fill: #FFFFFF;\n",
              "    }\n",
              "  </style>\n",
              "\n",
              "      <script>\n",
              "        const buttonEl =\n",
              "          document.querySelector('#df-b9368b6f-81dd-4a7c-8627-4622726b9402 button.colab-df-convert');\n",
              "        buttonEl.style.display =\n",
              "          google.colab.kernel.accessAllowed ? 'block' : 'none';\n",
              "\n",
              "        async function convertToInteractive(key) {\n",
              "          const element = document.querySelector('#df-b9368b6f-81dd-4a7c-8627-4622726b9402');\n",
              "          const dataTable =\n",
              "            await google.colab.kernel.invokeFunction('convertToInteractive',\n",
              "                                                     [key], {});\n",
              "          if (!dataTable) return;\n",
              "\n",
              "          const docLinkHtml = 'Like what you see? Visit the ' +\n",
              "            '<a target=\"_blank\" href=https://colab.research.google.com/notebooks/data_table.ipynb>data table notebook</a>'\n",
              "            + ' to learn more about interactive tables.';\n",
              "          element.innerHTML = '';\n",
              "          dataTable['output_type'] = 'display_data';\n",
              "          await google.colab.output.renderOutput(dataTable, element);\n",
              "          const docLink = document.createElement('div');\n",
              "          docLink.innerHTML = docLinkHtml;\n",
              "          element.appendChild(docLink);\n",
              "        }\n",
              "      </script>\n",
              "    </div>\n",
              "  </div>\n",
              "  "
            ]
          },
          "metadata": {},
          "execution_count": 3
        }
      ]
    },
    {
      "cell_type": "code",
      "source": [
        "df.shape"
      ],
      "metadata": {
        "colab": {
          "base_uri": "https://localhost:8080/"
        },
        "id": "yjgWlnxtb0ab",
        "outputId": "d5b47d42-4f9a-442a-b3a7-1e22cf29721b"
      },
      "execution_count": null,
      "outputs": [
        {
          "output_type": "execute_result",
          "data": {
            "text/plain": [
              "(344, 23)"
            ]
          },
          "metadata": {},
          "execution_count": 4
        }
      ]
    },
    {
      "cell_type": "code",
      "source": [
        "df.columns"
      ],
      "metadata": {
        "colab": {
          "base_uri": "https://localhost:8080/"
        },
        "id": "qHlSIt1DcTv5",
        "outputId": "d5585e3f-62bb-4c1c-d97d-81bb639110d3"
      },
      "execution_count": null,
      "outputs": [
        {
          "output_type": "execute_result",
          "data": {
            "text/plain": [
              "Index(['MRD_no', 'Age', 'Gender', 'Class', 'Academic', 'Reading', 'Writing',\n",
              "       'Spelling', 'Copying', 'Language', 'Decoding', 'Fine Motor Skills',\n",
              "       'Maths', 'Attention', 'Hyperactive', 'Impulsive', 'processing speed',\n",
              "       'Auditory Discrimination', 'Auditory Memory', 'Visual Memory',\n",
              "       'Visual Discrimination', 'Visuo motor', 'LD'],\n",
              "      dtype='object')"
            ]
          },
          "metadata": {},
          "execution_count": 5
        }
      ]
    },
    {
      "cell_type": "code",
      "source": [
        "df=df.drop(['MRD_no'],axis=1)"
      ],
      "metadata": {
        "id": "Ss-b7-qDpQ_0"
      },
      "execution_count": null,
      "outputs": []
    },
    {
      "cell_type": "code",
      "source": [
        "df = df.dropna(axis=1)\n",
        "print(df.isna().sum())"
      ],
      "metadata": {
        "colab": {
          "base_uri": "https://localhost:8080/"
        },
        "id": "ZpHjd-MlmlGA",
        "outputId": "fa54edf4-6db4-41f7-a60f-58468e12636c"
      },
      "execution_count": null,
      "outputs": [
        {
          "output_type": "stream",
          "name": "stdout",
          "text": [
            "Academic                   0\n",
            "Reading                    0\n",
            "Writing                    0\n",
            "Spelling                   0\n",
            "Copying                    0\n",
            "Language                   0\n",
            "Decoding                   0\n",
            "Fine Motor Skills          0\n",
            "Maths                      0\n",
            "Attention                  0\n",
            "Hyperactive                0\n",
            "Impulsive                  0\n",
            "processing speed           0\n",
            "Auditory Discrimination    0\n",
            "Auditory Memory            0\n",
            "Visual Memory              0\n",
            "Visual Discrimination      0\n",
            "Visuo motor                0\n",
            "LD                         0\n",
            "dtype: int64\n"
          ]
        }
      ]
    },
    {
      "cell_type": "code",
      "source": [
        "df['LD'].value_counts()"
      ],
      "metadata": {
        "colab": {
          "base_uri": "https://localhost:8080/"
        },
        "id": "yo_x_IbocUr-",
        "outputId": "125f8137-4938-4a7e-97d3-cca2c9da7502"
      },
      "execution_count": null,
      "outputs": [
        {
          "output_type": "execute_result",
          "data": {
            "text/plain": [
              "yes    207\n",
              "no     137\n",
              "Name: LD, dtype: int64"
            ]
          },
          "metadata": {},
          "execution_count": 8
        }
      ]
    },
    {
      "cell_type": "code",
      "source": [
        "le = LabelEncoder()\n",
        "df_cols=['Reading', 'Writing','Maths','Attention' ,'Hyperactive' ,'Visual Memory','Impulsive','Auditory Discrimination','Auditory Memory','Visual Discrimination','processing speed']\n"
      ],
      "metadata": {
        "id": "5xQEvZFrgD-x"
      },
      "execution_count": null,
      "outputs": []
    },
    {
      "cell_type": "code",
      "source": [
        "for col in df_cols:\n",
        "   le = LabelEncoder()\n",
        "   le.fit(df[col])\n",
        "   df[col] = le.transform(df[col])"
      ],
      "metadata": {
        "id": "TpmjAZFhqGvY"
      },
      "execution_count": null,
      "outputs": []
    },
    {
      "cell_type": "code",
      "source": [
        "df.head()"
      ],
      "metadata": {
        "colab": {
          "base_uri": "https://localhost:8080/",
          "height": 285
        },
        "id": "911El25vgjOK",
        "outputId": "58d23a4f-2bc3-4425-ee49-98e230568ba0"
      },
      "execution_count": null,
      "outputs": [
        {
          "output_type": "execute_result",
          "data": {
            "text/plain": [
              "  Academic  Reading  Writing Spelling Copying Language Decoding  \\\n",
              "0     poor        1        0      yes      no       no       no   \n",
              "1     good        1        1      yes      no       no       no   \n",
              "2     good        0        1       no      no       no       no   \n",
              "3     good        0        1      yes      no       no       no   \n",
              "4     good        1        1      yes      no       no       no   \n",
              "\n",
              "  Fine Motor Skills  Maths  Attention  Hyperactive  Impulsive  \\\n",
              "0                no      1          0            0          0   \n",
              "1                no      1          0            0          0   \n",
              "2                no      0          1            1          1   \n",
              "3                no      1          0            0          0   \n",
              "4                no      1          1            1          0   \n",
              "\n",
              "   processing speed  Auditory Discrimination  Auditory Memory  Visual Memory  \\\n",
              "0                 0                        0                0              0   \n",
              "1                 0                        0                0              0   \n",
              "2                 0                        0                0              0   \n",
              "3                 0                        0                0              0   \n",
              "4                 0                        0                0              0   \n",
              "\n",
              "   Visual Discrimination Visuo motor   LD  \n",
              "0                      0          no  yes  \n",
              "1                      0          no  yes  \n",
              "2                      1          no   no  \n",
              "3                      0          no  yes  \n",
              "4                      0          no  yes  "
            ],
            "text/html": [
              "\n",
              "  <div id=\"df-0f8017d5-893a-493a-ab4c-791775513cda\">\n",
              "    <div class=\"colab-df-container\">\n",
              "      <div>\n",
              "<style scoped>\n",
              "    .dataframe tbody tr th:only-of-type {\n",
              "        vertical-align: middle;\n",
              "    }\n",
              "\n",
              "    .dataframe tbody tr th {\n",
              "        vertical-align: top;\n",
              "    }\n",
              "\n",
              "    .dataframe thead th {\n",
              "        text-align: right;\n",
              "    }\n",
              "</style>\n",
              "<table border=\"1\" class=\"dataframe\">\n",
              "  <thead>\n",
              "    <tr style=\"text-align: right;\">\n",
              "      <th></th>\n",
              "      <th>Academic</th>\n",
              "      <th>Reading</th>\n",
              "      <th>Writing</th>\n",
              "      <th>Spelling</th>\n",
              "      <th>Copying</th>\n",
              "      <th>Language</th>\n",
              "      <th>Decoding</th>\n",
              "      <th>Fine Motor Skills</th>\n",
              "      <th>Maths</th>\n",
              "      <th>Attention</th>\n",
              "      <th>Hyperactive</th>\n",
              "      <th>Impulsive</th>\n",
              "      <th>processing speed</th>\n",
              "      <th>Auditory Discrimination</th>\n",
              "      <th>Auditory Memory</th>\n",
              "      <th>Visual Memory</th>\n",
              "      <th>Visual Discrimination</th>\n",
              "      <th>Visuo motor</th>\n",
              "      <th>LD</th>\n",
              "    </tr>\n",
              "  </thead>\n",
              "  <tbody>\n",
              "    <tr>\n",
              "      <th>0</th>\n",
              "      <td>poor</td>\n",
              "      <td>1</td>\n",
              "      <td>0</td>\n",
              "      <td>yes</td>\n",
              "      <td>no</td>\n",
              "      <td>no</td>\n",
              "      <td>no</td>\n",
              "      <td>no</td>\n",
              "      <td>1</td>\n",
              "      <td>0</td>\n",
              "      <td>0</td>\n",
              "      <td>0</td>\n",
              "      <td>0</td>\n",
              "      <td>0</td>\n",
              "      <td>0</td>\n",
              "      <td>0</td>\n",
              "      <td>0</td>\n",
              "      <td>no</td>\n",
              "      <td>yes</td>\n",
              "    </tr>\n",
              "    <tr>\n",
              "      <th>1</th>\n",
              "      <td>good</td>\n",
              "      <td>1</td>\n",
              "      <td>1</td>\n",
              "      <td>yes</td>\n",
              "      <td>no</td>\n",
              "      <td>no</td>\n",
              "      <td>no</td>\n",
              "      <td>no</td>\n",
              "      <td>1</td>\n",
              "      <td>0</td>\n",
              "      <td>0</td>\n",
              "      <td>0</td>\n",
              "      <td>0</td>\n",
              "      <td>0</td>\n",
              "      <td>0</td>\n",
              "      <td>0</td>\n",
              "      <td>0</td>\n",
              "      <td>no</td>\n",
              "      <td>yes</td>\n",
              "    </tr>\n",
              "    <tr>\n",
              "      <th>2</th>\n",
              "      <td>good</td>\n",
              "      <td>0</td>\n",
              "      <td>1</td>\n",
              "      <td>no</td>\n",
              "      <td>no</td>\n",
              "      <td>no</td>\n",
              "      <td>no</td>\n",
              "      <td>no</td>\n",
              "      <td>0</td>\n",
              "      <td>1</td>\n",
              "      <td>1</td>\n",
              "      <td>1</td>\n",
              "      <td>0</td>\n",
              "      <td>0</td>\n",
              "      <td>0</td>\n",
              "      <td>0</td>\n",
              "      <td>1</td>\n",
              "      <td>no</td>\n",
              "      <td>no</td>\n",
              "    </tr>\n",
              "    <tr>\n",
              "      <th>3</th>\n",
              "      <td>good</td>\n",
              "      <td>0</td>\n",
              "      <td>1</td>\n",
              "      <td>yes</td>\n",
              "      <td>no</td>\n",
              "      <td>no</td>\n",
              "      <td>no</td>\n",
              "      <td>no</td>\n",
              "      <td>1</td>\n",
              "      <td>0</td>\n",
              "      <td>0</td>\n",
              "      <td>0</td>\n",
              "      <td>0</td>\n",
              "      <td>0</td>\n",
              "      <td>0</td>\n",
              "      <td>0</td>\n",
              "      <td>0</td>\n",
              "      <td>no</td>\n",
              "      <td>yes</td>\n",
              "    </tr>\n",
              "    <tr>\n",
              "      <th>4</th>\n",
              "      <td>good</td>\n",
              "      <td>1</td>\n",
              "      <td>1</td>\n",
              "      <td>yes</td>\n",
              "      <td>no</td>\n",
              "      <td>no</td>\n",
              "      <td>no</td>\n",
              "      <td>no</td>\n",
              "      <td>1</td>\n",
              "      <td>1</td>\n",
              "      <td>1</td>\n",
              "      <td>0</td>\n",
              "      <td>0</td>\n",
              "      <td>0</td>\n",
              "      <td>0</td>\n",
              "      <td>0</td>\n",
              "      <td>0</td>\n",
              "      <td>no</td>\n",
              "      <td>yes</td>\n",
              "    </tr>\n",
              "  </tbody>\n",
              "</table>\n",
              "</div>\n",
              "      <button class=\"colab-df-convert\" onclick=\"convertToInteractive('df-0f8017d5-893a-493a-ab4c-791775513cda')\"\n",
              "              title=\"Convert this dataframe to an interactive table.\"\n",
              "              style=\"display:none;\">\n",
              "        \n",
              "  <svg xmlns=\"http://www.w3.org/2000/svg\" height=\"24px\"viewBox=\"0 0 24 24\"\n",
              "       width=\"24px\">\n",
              "    <path d=\"M0 0h24v24H0V0z\" fill=\"none\"/>\n",
              "    <path d=\"M18.56 5.44l.94 2.06.94-2.06 2.06-.94-2.06-.94-.94-2.06-.94 2.06-2.06.94zm-11 1L8.5 8.5l.94-2.06 2.06-.94-2.06-.94L8.5 2.5l-.94 2.06-2.06.94zm10 10l.94 2.06.94-2.06 2.06-.94-2.06-.94-.94-2.06-.94 2.06-2.06.94z\"/><path d=\"M17.41 7.96l-1.37-1.37c-.4-.4-.92-.59-1.43-.59-.52 0-1.04.2-1.43.59L10.3 9.45l-7.72 7.72c-.78.78-.78 2.05 0 2.83L4 21.41c.39.39.9.59 1.41.59.51 0 1.02-.2 1.41-.59l7.78-7.78 2.81-2.81c.8-.78.8-2.07 0-2.86zM5.41 20L4 18.59l7.72-7.72 1.47 1.35L5.41 20z\"/>\n",
              "  </svg>\n",
              "      </button>\n",
              "      \n",
              "  <style>\n",
              "    .colab-df-container {\n",
              "      display:flex;\n",
              "      flex-wrap:wrap;\n",
              "      gap: 12px;\n",
              "    }\n",
              "\n",
              "    .colab-df-convert {\n",
              "      background-color: #E8F0FE;\n",
              "      border: none;\n",
              "      border-radius: 50%;\n",
              "      cursor: pointer;\n",
              "      display: none;\n",
              "      fill: #1967D2;\n",
              "      height: 32px;\n",
              "      padding: 0 0 0 0;\n",
              "      width: 32px;\n",
              "    }\n",
              "\n",
              "    .colab-df-convert:hover {\n",
              "      background-color: #E2EBFA;\n",
              "      box-shadow: 0px 1px 2px rgba(60, 64, 67, 0.3), 0px 1px 3px 1px rgba(60, 64, 67, 0.15);\n",
              "      fill: #174EA6;\n",
              "    }\n",
              "\n",
              "    [theme=dark] .colab-df-convert {\n",
              "      background-color: #3B4455;\n",
              "      fill: #D2E3FC;\n",
              "    }\n",
              "\n",
              "    [theme=dark] .colab-df-convert:hover {\n",
              "      background-color: #434B5C;\n",
              "      box-shadow: 0px 1px 3px 1px rgba(0, 0, 0, 0.15);\n",
              "      filter: drop-shadow(0px 1px 2px rgba(0, 0, 0, 0.3));\n",
              "      fill: #FFFFFF;\n",
              "    }\n",
              "  </style>\n",
              "\n",
              "      <script>\n",
              "        const buttonEl =\n",
              "          document.querySelector('#df-0f8017d5-893a-493a-ab4c-791775513cda button.colab-df-convert');\n",
              "        buttonEl.style.display =\n",
              "          google.colab.kernel.accessAllowed ? 'block' : 'none';\n",
              "\n",
              "        async function convertToInteractive(key) {\n",
              "          const element = document.querySelector('#df-0f8017d5-893a-493a-ab4c-791775513cda');\n",
              "          const dataTable =\n",
              "            await google.colab.kernel.invokeFunction('convertToInteractive',\n",
              "                                                     [key], {});\n",
              "          if (!dataTable) return;\n",
              "\n",
              "          const docLinkHtml = 'Like what you see? Visit the ' +\n",
              "            '<a target=\"_blank\" href=https://colab.research.google.com/notebooks/data_table.ipynb>data table notebook</a>'\n",
              "            + ' to learn more about interactive tables.';\n",
              "          element.innerHTML = '';\n",
              "          dataTable['output_type'] = 'display_data';\n",
              "          await google.colab.output.renderOutput(dataTable, element);\n",
              "          const docLink = document.createElement('div');\n",
              "          docLink.innerHTML = docLinkHtml;\n",
              "          element.appendChild(docLink);\n",
              "        }\n",
              "      </script>\n",
              "    </div>\n",
              "  </div>\n",
              "  "
            ]
          },
          "metadata": {},
          "execution_count": 11
        }
      ]
    },
    {
      "cell_type": "code",
      "source": [
        "plt.figure(figsize=(15, 8))\n",
        "sns.heatmap(df.corr(),cmap='coolwarm', annot=True)"
      ],
      "metadata": {
        "colab": {
          "base_uri": "https://localhost:8080/",
          "height": 612
        },
        "id": "dh8fIfKmclMZ",
        "outputId": "7393da09-7955-41f2-fc46-16d3147661ab"
      },
      "execution_count": null,
      "outputs": [
        {
          "output_type": "execute_result",
          "data": {
            "text/plain": [
              "<AxesSubplot:>"
            ]
          },
          "metadata": {},
          "execution_count": 12
        },
        {
          "output_type": "display_data",
          "data": {
            "text/plain": [
              "<Figure size 1080x576 with 2 Axes>"
            ],
            "image/png": "[encoded data removed]"
          },
          "metadata": {
            "needs_background": "light"
          }
        }
      ]
    },
    {
      "cell_type": "code",
      "source": [
        "features = df[['Reading', 'Writing','Maths','Attention' ,'Hyperactive' ,'Impulsive','Auditory Discrimination','Visual Discrimination']]\n",
        "target = df['LD']"
      ],
      "metadata": {
        "id": "q6XK3Ja3c06v"
      },
      "execution_count": null,
      "outputs": []
    },
    {
      "cell_type": "code",
      "source": [
        "acc = []\n",
        "model = []"
      ],
      "metadata": {
        "id": "LZMyezIVd1As"
      },
      "execution_count": null,
      "outputs": []
    },
    {
      "cell_type": "code",
      "source": [
        "from sklearn.model_selection import train_test_split\n",
        "Xtrain, Xtest, Ytrain, Ytest = train_test_split(features,target,test_size = 0.2,random_state =2)"
      ],
      "metadata": {
        "id": "qXihLy2Nd36V"
      },
      "execution_count": null,
      "outputs": []
    },
    {
      "cell_type": "markdown",
      "source": [
        "**Navie bayes**"
      ],
      "metadata": {
        "id": "S7unGxGoeXNM"
      }
    },
    {
      "cell_type": "code",
      "source": [
        "from sklearn.naive_bayes import GaussianNB\n",
        "\n",
        "NaiveBayes = GaussianNB()\n",
        "\n",
        "NaiveBayes.fit(Xtrain,Ytrain)\n",
        "\n",
        "predicted_values = NaiveBayes.predict(Xtest)\n",
        "x = metrics.accuracy_score(Ytest, predicted_values)\n",
        "acc.append(x)\n",
        "model.append('Naive Bayes')\n",
        "print(\"Naive Bayes's Accuracy is: \", x)\n",
        "\n",
        "print(classification_report(Ytest,predicted_values))"
      ],
      "metadata": {
        "colab": {
          "base_uri": "https://localhost:8080/"
        },
        "id": "QS6InWWseWV2",
        "outputId": "055e89e9-5b6d-40e6-b8af-14cc78a0525d"
      },
      "execution_count": null,
      "outputs": [
        {
          "output_type": "stream",
          "name": "stdout",
          "text": [
            "Naive Bayes's Accuracy is:  0.855072463768116\n",
            "              precision    recall  f1-score   support\n",
            "\n",
            "          no       0.96      0.71      0.81        31\n",
            "         yes       0.80      0.97      0.88        38\n",
            "\n",
            "    accuracy                           0.86        69\n",
            "   macro avg       0.88      0.84      0.85        69\n",
            "weighted avg       0.87      0.86      0.85        69\n",
            "\n"
          ]
        }
      ]
    },
    {
      "cell_type": "code",
      "source": [
        "from sklearn.model_selection import cross_val_score\n",
        "score = cross_val_score(NaiveBayes,features,target,cv=5)\n",
        "score"
      ],
      "metadata": {
        "colab": {
          "base_uri": "https://localhost:8080/"
        },
        "id": "79KVKWbdiL7U",
        "outputId": "3408030e-7d44-4063-a999-1a611a9f12f7"
      },
      "execution_count": null,
      "outputs": [
        {
          "output_type": "execute_result",
          "data": {
            "text/plain": [
              "array([0.82608696, 0.82608696, 0.69565217, 0.62318841, 0.88235294])"
            ]
          },
          "metadata": {},
          "execution_count": 17
        }
      ]
    },
    {
      "cell_type": "markdown",
      "source": [
        "**Support Vector Machine**"
      ],
      "metadata": {
        "id": "cx-QOLLIoh1b"
      }
    },
    {
      "cell_type": "code",
      "source": [
        "from sklearn.svm import SVC\n",
        "# data normalization with sklearn\n",
        "from sklearn.preprocessing import MinMaxScaler\n",
        "# fit scaler on training data\n",
        "norm = MinMaxScaler().fit(Xtrain)\n",
        "X_train_norm = norm.transform(Xtrain)\n",
        "# transform testing dataabs\n",
        "X_test_norm = norm.transform(Xtest)\n",
        "SVM = SVC(kernel='poly', degree=3, C=1)\n",
        "SVM.fit(X_train_norm,Ytrain)\n",
        "predicted_values = SVM.predict(X_test_norm)\n",
        "x = metrics.accuracy_score(Ytest, predicted_values)\n",
        "acc.append(x)\n",
        "model.append('SVM')\n",
        "print(\"SVM's Accuracy is: \", x)\n",
        "\n",
        "print(classification_report(Ytest,predicted_values))"
      ],
      "metadata": {
        "colab": {
          "base_uri": "https://localhost:8080/"
        },
        "id": "nyCqtbtnit7y",
        "outputId": "86dde71f-bde4-4373-c9ea-f6dad10fb584"
      },
      "execution_count": null,
      "outputs": [
        {
          "output_type": "stream",
          "name": "stdout",
          "text": [
            "SVM's Accuracy is:  0.8840579710144928\n",
            "              precision    recall  f1-score   support\n",
            "\n",
            "          no       0.85      0.90      0.88        31\n",
            "         yes       0.92      0.87      0.89        38\n",
            "\n",
            "    accuracy                           0.88        69\n",
            "   macro avg       0.88      0.89      0.88        69\n",
            "weighted avg       0.89      0.88      0.88        69\n",
            "\n"
          ]
        }
      ]
    },
    {
      "cell_type": "code",
      "source": [
        "score = cross_val_score(SVM,features,target,cv=5)\n",
        "score"
      ],
      "metadata": {
        "colab": {
          "base_uri": "https://localhost:8080/"
        },
        "id": "3gXb323kiw4Y",
        "outputId": "bbf977d8-4038-444e-85b6-2ed16bde3b7b"
      },
      "execution_count": null,
      "outputs": [
        {
          "output_type": "execute_result",
          "data": {
            "text/plain": [
              "array([0.79710145, 0.82608696, 0.71014493, 0.88405797, 0.85294118])"
            ]
          },
          "metadata": {},
          "execution_count": 19
        }
      ]
    },
    {
      "cell_type": "markdown",
      "source": [
        "**Random Forest**"
      ],
      "metadata": {
        "id": "CnFrg7Z8iz7_"
      }
    },
    {
      "cell_type": "code",
      "source": [
        "from sklearn.ensemble import RandomForestClassifier\n",
        "\n",
        "RF = RandomForestClassifier(n_estimators=20, random_state=0)\n",
        "RF.fit(Xtrain,Ytrain)\n",
        "\n",
        "predicted_values = RF.predict(Xtest)\n",
        "\n",
        "x = metrics.accuracy_score(Ytest, predicted_values)\n",
        "acc.append(x)\n",
        "model.append('RF')\n",
        "print(\"RF's Accuracy is: \", x)\n",
        "\n",
        "print(classification_report(Ytest,predicted_values))"
      ],
      "metadata": {
        "colab": {
          "base_uri": "https://localhost:8080/"
        },
        "id": "ptEJ9OJti1-Z",
        "outputId": "82198cb5-ed47-48bc-ac78-94e7a3285591"
      },
      "execution_count": null,
      "outputs": [
        {
          "output_type": "stream",
          "name": "stdout",
          "text": [
            "RF's Accuracy is:  0.8405797101449275\n",
            "              precision    recall  f1-score   support\n",
            "\n",
            "          no       0.86      0.77      0.81        31\n",
            "         yes       0.83      0.89      0.86        38\n",
            "\n",
            "    accuracy                           0.84        69\n",
            "   macro avg       0.84      0.83      0.84        69\n",
            "weighted avg       0.84      0.84      0.84        69\n",
            "\n"
          ]
        }
      ]
    },
    {
      "cell_type": "code",
      "source": [
        "score = cross_val_score(RF,features,target,cv=5)\n",
        "score"
      ],
      "metadata": {
        "colab": {
          "base_uri": "https://localhost:8080/"
        },
        "id": "5tPqhjA1i4Wo",
        "outputId": "cec6e281-9f0d-4046-e5c0-948abc9f9f52"
      },
      "execution_count": null,
      "outputs": [
        {
          "output_type": "execute_result",
          "data": {
            "text/plain": [
              "array([0.79710145, 0.8115942 , 0.71014493, 0.84057971, 0.82352941])"
            ]
          },
          "metadata": {},
          "execution_count": 21
        }
      ]
    },
    {
      "cell_type": "code",
      "source": [
        "print(model)\n",
        "print(acc)"
      ],
      "metadata": {
        "colab": {
          "base_uri": "https://localhost:8080/"
        },
        "id": "XPiLgZW3i69Q",
        "outputId": "bcf06f69-4b04-443b-a37a-4c683aade38b"
      },
      "execution_count": null,
      "outputs": [
        {
          "output_type": "stream",
          "name": "stdout",
          "text": [
            "['Naive Bayes', 'SVM', 'RF']\n",
            "[0.855072463768116, 0.8840579710144928, 0.8405797101449275]\n"
          ]
        }
      ]
    },
    {
      "cell_type": "code",
      "source": [
        "plt.figure(figsize=[10,3],dpi = 100)\n",
        "plt.title('Accuracy Comparison')\n",
        "plt.xlabel('Accuracy')\n",
        "plt.ylabel('Algorithm')\n",
        "sns.barplot(x = acc,y = model,palette='dark')"
      ],
      "metadata": {
        "colab": {
          "base_uri": "https://localhost:8080/",
          "height": 346
        },
        "id": "bUrXgyzqi9i3",
        "outputId": "27005f3e-7576-4f4e-949e-e477eb39e560"
      },
      "execution_count": null,
      "outputs": [
        {
          "output_type": "execute_result",
          "data": {
            "text/plain": [
              "<AxesSubplot:title={'center':'Accuracy Comparison'}, xlabel='Accuracy', ylabel='Algorithm'>"
            ]
          },
          "metadata": {},
          "execution_count": 23
        },
        {
          "output_type": "display_data",
          "data": {
            "text/plain": [
              "<Figure size 1000x300 with 1 Axes>"
            ],
            "image/png": "[encoded data removed]"
          },
          "metadata": {
            "needs_background": "light"
          }
        }
      ]
    },
    {
      "cell_type": "code",
      "source": [
        "accuracy_models = dict(zip(model, acc))\n",
        "for k, v in accuracy_models.items():\n",
        "    print (k, '-->', v)\n"
      ],
      "metadata": {
        "colab": {
          "base_uri": "https://localhost:8080/"
        },
        "id": "B3Us5Qt1jMBu",
        "outputId": "e7b9fcb9-998e-491c-c98c-03528c281c9c"
      },
      "execution_count": null,
      "outputs": [
        {
          "output_type": "stream",
          "name": "stdout",
          "text": [
            "Naive Bayes --> 0.855072463768116\n",
            "SVM --> 0.8840579710144928\n",
            "RF --> 0.8405797101449275\n"
          ]
        }
      ]
    },
    {
      "cell_type": "markdown",
      "source": [
        "**TESTING THE MODEL**"
      ],
      "metadata": {
        "id": "RDbYU0DcjVgK"
      }
    },
    {
      "cell_type": "code",
      "source": [
        "print(\"------ Welcome to ML School Application --------\")\n",
        "print('Enter Student details to find whether he must be improved or not?')\n",
        "\n",
        "\n",
        "Reading=input(\"Does the Student Reads Well?: \")\n",
        "Writing=input(\"Does the Student Writes Well?: \")\n",
        "Maths=input(\"Does the Student Calculates Well?: \")\n",
        "Attention=input(\"Does Student pays Attention?: \")\n",
        "Hyperactive=input(\"is Student Hyperactive?:\")\n",
        "Impulsive=input(\"is Student Impulsive?: \")\n",
        "Auditory_Discrimination=input(\"Does Student can discriminate voice?: \")\n",
        "Visual_Discrimination=input(\"Does Student can discriminate visual?: \")\n",
        "\n",
        "arr=[Reading,Writing,Maths,Attention,Hyperactive,Impulsive,Auditory_Discrimination,Visual_Discrimination]"
      ],
      "metadata": {
        "id": "weTbfZU2tpfT",
        "colab": {
          "base_uri": "https://localhost:8080/"
        },
        "outputId": "739e7573-7fbd-43aa-c675-968112140a6e"
      },
      "execution_count": null,
      "outputs": [
        {
          "name": "stdout",
          "output_type": "stream",
          "text": [
            "------ Welcome to ML School Application --------\n",
            "Enter Student details to find whether he must be improved or not?\n",
            "Does the Student Reads Well?: Yes\n",
            "Does the Student Writes Well?: No\n",
            "Does the Student Calculates Well?: Yes\n",
            "Does Student pays Attention?: No\n",
            "is Student Hyperactive?:Yes\n",
            "is Student Impulsive?: No\n",
            "Does Student can discriminate voice?: No\n",
            "Does Student can discriminate visual?: No\n"
          ]
        }
      ]
    },
    {
      "cell_type": "code",
      "source": [
        "le.fit(arr)\n",
        "arr = le.transform(arr)\n",
        "val = np.array([arr])\n",
        "\n",
        "prediction = RF.predict(val)\n",
        "if (prediction[0]=='yes'):\n",
        "  print(\"The student is Suffering from Learning Disability Should be Helped to improve\")\n",
        "else:\n",
        "  print(\"No, Student is fine\")"
      ],
      "metadata": {
        "colab": {
          "base_uri": "https://localhost:8080/"
        },
        "id": "2wXoq1z3vTdj",
        "outputId": "962178c0-15a8-43c7-ff92-84d9096b1ad3"
      },
      "execution_count": null,
      "outputs": [
        {
          "output_type": "stream",
          "name": "stdout",
          "text": [
            "The student is Suffering from Learning Disability Should be Helped to improve\n"
          ]
        }
      ]
    }
  ]
}